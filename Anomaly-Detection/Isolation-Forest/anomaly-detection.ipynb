{
 "cells": [
  {
   "cell_type": "code",
   "execution_count": 1,
   "id": "8333cd80",
   "metadata": {},
   "outputs": [],
   "source": [
    "import pandas as pd\n",
    "import numpy as np\n",
    "import matplotlib.pyplot as plt\n",
    "import seaborn as sns"
   ]
  },
  {
   "cell_type": "code",
   "execution_count": 4,
   "id": "1cc0edb3",
   "metadata": {},
   "outputs": [
    {
     "data": {
      "text/html": [
       "<div>\n",
       "<style scoped>\n",
       "    .dataframe tbody tr th:only-of-type {\n",
       "        vertical-align: middle;\n",
       "    }\n",
       "\n",
       "    .dataframe tbody tr th {\n",
       "        vertical-align: top;\n",
       "    }\n",
       "\n",
       "    .dataframe thead th {\n",
       "        text-align: right;\n",
       "    }\n",
       "</style>\n",
       "<table border=\"1\" class=\"dataframe\">\n",
       "  <thead>\n",
       "    <tr style=\"text-align: right;\">\n",
       "      <th></th>\n",
       "      <th>blood_pressure</th>\n",
       "      <th>heart_rate</th>\n",
       "    </tr>\n",
       "  </thead>\n",
       "  <tbody>\n",
       "    <tr>\n",
       "      <th>0</th>\n",
       "      <td>114.604290</td>\n",
       "      <td>70.318174</td>\n",
       "    </tr>\n",
       "    <tr>\n",
       "      <th>1</th>\n",
       "      <td>120.398556</td>\n",
       "      <td>83.234744</td>\n",
       "    </tr>\n",
       "    <tr>\n",
       "      <th>2</th>\n",
       "      <td>106.018224</td>\n",
       "      <td>81.901207</td>\n",
       "    </tr>\n",
       "    <tr>\n",
       "      <th>3</th>\n",
       "      <td>118.059278</td>\n",
       "      <td>77.404945</td>\n",
       "    </tr>\n",
       "    <tr>\n",
       "      <th>4</th>\n",
       "      <td>116.331618</td>\n",
       "      <td>89.079822</td>\n",
       "    </tr>\n",
       "  </tbody>\n",
       "</table>\n",
       "</div>"
      ],
      "text/plain": [
       "   blood_pressure  heart_rate\n",
       "0      114.604290   70.318174\n",
       "1      120.398556   83.234744\n",
       "2      106.018224   81.901207\n",
       "3      118.059278   77.404945\n",
       "4      116.331618   89.079822"
      ]
     },
     "execution_count": 4,
     "metadata": {},
     "output_type": "execute_result"
    }
   ],
   "source": [
    "health_df=pd.read_csv(\"healthcare_dataset.csv\")\n",
    "health_df.head()"
   ]
  },
  {
   "cell_type": "code",
   "execution_count": 5,
   "id": "a8878b6a",
   "metadata": {},
   "outputs": [
    {
     "data": {
      "text/plain": [
       "[]"
      ]
     },
     "execution_count": 5,
     "metadata": {},
     "output_type": "execute_result"
    },
    {
     "data": {
      "image/png": "[encoded data removed]",
      "text/plain": [
       "<Figure size 640x480 with 1 Axes>"
      ]
     },
     "metadata": {},
     "output_type": "display_data"
    }
   ],
   "source": [
    "# visualize the outliers\n",
    "plt.scatter(health_df.iloc[:,0],health_df.iloc[:,1])\n",
    "plt.plot()"
   ]
  },
  {
   "cell_type": "code",
   "execution_count": 6,
   "id": "2c6244a6",
   "metadata": {},
   "outputs": [],
   "source": [
    "# now apply Isolation forest\n",
    "from sklearn.ensemble import IsolationForest\n",
    "\n",
    "isolation_forest=IsolationForest(contamination=0.2)\n",
    "isolation_forest.fit(health_df)\n",
    "predictions=isolation_forest.predict(health_df)"
   ]
  },
  {
   "cell_type": "code",
   "execution_count": 7,
   "id": "5d1a318e",
   "metadata": {},
   "outputs": [
    {
     "data": {
      "text/plain": [
       "array([ 1,  1,  1,  1, -1,  1,  1,  1,  1,  1,  1,  1,  1, -1,  1,  1,  1,\n",
       "        1,  1,  1,  1, -1,  1,  1,  1,  1,  1, -1,  1,  1,  1,  1, -1,  1,\n",
       "        1,  1,  1, -1,  1,  1,  1,  1,  1,  1,  1,  1,  1,  1,  1,  1,  1,\n",
       "        1,  1,  1,  1,  1, -1,  1,  1,  1,  1,  1,  1,  1,  1,  1, -1,  1,\n",
       "        1,  1,  1,  1, -1,  1, -1,  1,  1,  1,  1,  1,  1, -1,  1, -1, -1,\n",
       "       -1,  1,  1,  1,  1,  1,  1, -1, -1,  1, -1, -1,  1,  1,  1,  1,  1,\n",
       "        1,  1,  1,  1,  1, -1, -1,  1,  1, -1,  1,  1,  1,  1,  1, -1,  1,\n",
       "        1, -1,  1,  1, -1,  1,  1,  1,  1,  1,  1,  1,  1,  1,  1,  1,  1,\n",
       "       -1,  1,  1,  1,  1,  1,  1, -1,  1,  1,  1,  1,  1,  1,  1,  1,  1,\n",
       "        1,  1,  1,  1,  1,  1,  1,  1, -1, -1,  1,  1,  1,  1,  1,  1, -1,\n",
       "        1,  1,  1,  1,  1,  1, -1,  1,  1, -1,  1,  1,  1,  1,  1,  1,  1,\n",
       "        1,  1,  1,  1,  1,  1, -1,  1,  1,  1,  1,  1,  1, -1, -1, -1, -1,\n",
       "       -1, -1, -1, -1, -1, -1])"
      ]
     },
     "execution_count": 7,
     "metadata": {},
     "output_type": "execute_result"
    }
   ],
   "source": [
    "predictions"
   ]
  },
  {
   "cell_type": "code",
   "execution_count": 9,
   "id": "0ba65ab7",
   "metadata": {},
   "outputs": [
    {
     "data": {
      "text/plain": [
       "(array([  4,  13,  21,  27,  32,  37,  56,  66,  72,  74,  81,  83,  84,\n",
       "         85,  92,  93,  95,  96, 107, 108, 111, 117, 120, 123, 136, 143,\n",
       "        161, 162, 169, 176, 179, 193, 200, 201, 202, 203, 204, 205, 206,\n",
       "        207, 208, 209]),)"
      ]
     },
     "execution_count": 9,
     "metadata": {},
     "output_type": "execute_result"
    }
   ],
   "source": [
    "# now take index of the anomaly points\n",
    "anomaly_index=np.where(predictions<0)\n",
    "anomaly_index"
   ]
  },
  {
   "cell_type": "code",
   "execution_count": 15,
   "id": "6c73283b",
   "metadata": {},
   "outputs": [
    {
     "data": {
      "text/plain": [
       "array([[114.60429032,  70.31817361],\n",
       "       [120.39855594,  83.23474397],\n",
       "       [106.01822383,  81.90120707],\n",
       "       [118.05927797,  77.40494482],\n",
       "       [116.33161767,  89.07982198],\n",
       "       [118.93961011,  71.5794914 ],\n",
       "       [117.31334915,  68.84684897],\n",
       "       [134.64240112,  73.84855158],\n",
       "       [109.89808013,  77.7264839 ],\n",
       "       [110.75202436,  79.4600367 ],\n",
       "       [110.01487579,  76.55258365],\n",
       "       [110.55618305,  80.11233238],\n",
       "       [109.90090298,  70.49076345],\n",
       "       [124.51213225,  86.66258762],\n",
       "       [126.36403398,  77.50709293],\n",
       "       [110.43402965,  84.70377499],\n",
       "       [108.34115542,  80.05635208],\n",
       "       [118.77132445,  80.74051931],\n",
       "       [110.58221565,  81.41860368],\n",
       "       [120.06345454,  80.68625136],\n",
       "       [116.62338417,  81.85633656],\n",
       "       [102.87404708,  85.97491518],\n",
       "       [127.38004161,  79.17912702],\n",
       "       [129.36702138,  82.25402255],\n",
       "       [110.09769048,  77.46158583],\n",
       "       [111.89838752,  86.64070329],\n",
       "       [117.28692313,  73.94164619],\n",
       "       [117.67565432,  88.8056426 ],\n",
       "       [120.26835418,  77.7590523 ],\n",
       "       [131.08163631,  69.41534939],\n",
       "       [113.58442218,  78.76862649],\n",
       "       [108.61362204,  73.91369006],\n",
       "       [103.96544618,  83.04386129],\n",
       "       [109.15255968,  74.08425612],\n",
       "       [114.73498422,  75.3228994 ],\n",
       "       [129.35646291,  66.66275561],\n",
       "       [110.85910961,  75.28616208],\n",
       "       [116.79030361,  63.45672404],\n",
       "       [114.86861683,  68.49658306],\n",
       "       [124.50714619,  82.56248794],\n",
       "       [135.21545941,  82.71480095],\n",
       "       [110.75304982,  80.55274537],\n",
       "       [111.08448446,  72.19814314],\n",
       "       [123.35328702,  77.71373186],\n",
       "       [120.45513192,  77.97838477],\n",
       "       [129.77365861,  71.04981186],\n",
       "       [119.67142548,  87.02038981],\n",
       "       [112.12566327,  83.26417374],\n",
       "       [119.72523865,  76.67421496],\n",
       "       [123.86962864,  78.16131503],\n",
       "       [121.56385745,  79.25029685],\n",
       "       [119.05819225,  65.74959079],\n",
       "       [123.53339752,  76.5169357 ],\n",
       "       [124.35436472,  73.90809451],\n",
       "       [126.05727193,  71.99027994],\n",
       "       [120.1896791 ,  76.31339824],\n",
       "       [113.66305536,  88.78611916],\n",
       "       [116.17370949,  81.84505717],\n",
       "       [124.65207173,  74.57292606],\n",
       "       [108.46451463,  81.43549669],\n",
       "       [117.94938647,  86.39613262],\n",
       "       [111.8532895 ,  83.5478021 ],\n",
       "       [115.22995858,  78.35778222],\n",
       "       [125.2276149 ,  74.11837933],\n",
       "       [116.52879254,  82.18933988],\n",
       "       [115.37149239,  80.36091231],\n",
       "       [104.12115087,  83.37115932],\n",
       "       [120.97002853,  81.81103081],\n",
       "       [120.16387345,  84.29731629],\n",
       "       [132.30603779,  74.78858873],\n",
       "       [112.53777412,  85.90436439],\n",
       "       [116.75320262,  79.18559763],\n",
       "       [116.99506947,  90.45156524],\n",
       "       [127.61962624,  73.86487309],\n",
       "       [114.23763574,  88.41578282],\n",
       "       [117.23217221,  79.1874647 ],\n",
       "       [119.86317208,  74.09149198],\n",
       "       [116.49287299,  75.096685  ],\n",
       "       [111.42853108,  76.07791615],\n",
       "       [116.55271994,  80.54499568],\n",
       "       [123.589054  ,  81.13701293],\n",
       "       [106.7878776 ,  74.55779998],\n",
       "       [116.06375739,  77.85387245],\n",
       "       [109.39903348,  90.85362215],\n",
       "       [124.56037303,  88.36525902],\n",
       "       [102.81450476,  80.61794202],\n",
       "       [110.52862522,  78.22802087],\n",
       "       [118.017695  ,  78.72018796],\n",
       "       [127.52419223,  81.68110784],\n",
       "       [114.47399791,  71.86324461],\n",
       "       [110.55840379,  76.45574078],\n",
       "       [130.04925656,  67.98849556],\n",
       "       [103.4158888 ,  80.39533874],\n",
       "       [ 97.40955235,  81.88317564],\n",
       "       [118.5201156 ,  75.10088123],\n",
       "       [110.98356621,  87.44392058],\n",
       "       [106.83013746,  70.64540602],\n",
       "       [120.66685158,  69.21375072],\n",
       "       [116.95040571,  79.34671091],\n",
       "       [110.48737095,  84.28258982],\n",
       "       [148.47142153,  66.21461898],\n",
       "       [131.3289259 ,  76.25424088],\n",
       "       [143.62944667,  67.09966648],\n",
       "       [134.69193224,  68.75345872],\n",
       "       [133.6189816 ,  66.96156905],\n",
       "       [142.0692795 ,  68.09347429],\n",
       "       [140.21858303,  61.42234948],\n",
       "       [122.38886274,  59.3596947 ],\n",
       "       [146.8123228 ,  77.56703038],\n",
       "       [146.04073083,  62.91823191],\n",
       "       [129.99549839,  62.0516459 ],\n",
       "       [138.16642827,  55.07965932],\n",
       "       [138.95224149,  64.16622951],\n",
       "       [137.08539013,  60.06146124],\n",
       "       [130.59755877,  77.85209096],\n",
       "       [129.62701306,  74.05890254],\n",
       "       [134.79556743,  63.87109793],\n",
       "       [144.38183215,  81.51461483],\n",
       "       [139.34880124,  73.89059292],\n",
       "       [132.03508534,  66.0510117 ],\n",
       "       [141.17358969,  53.00356571],\n",
       "       [112.21165903,  81.74565544],\n",
       "       [144.1901256 ,  59.6625652 ],\n",
       "       [121.08228977,  58.12760752],\n",
       "       [132.10047247,  74.13542259],\n",
       "       [126.04264084,  82.63851444],\n",
       "       [124.64254819,  76.30563691],\n",
       "       [144.2866143 ,  71.38345472],\n",
       "       [131.25839039,  71.56852605],\n",
       "       [137.77203105,  73.12049335],\n",
       "       [134.62463537,  72.55357154],\n",
       "       [138.81632662,  69.68714854],\n",
       "       [135.61457513,  68.62520662],\n",
       "       [124.73606221,  67.62444123],\n",
       "       [142.97013456,  63.47621247],\n",
       "       [131.04994733,  66.31594954],\n",
       "       [122.54734481,  57.84225911],\n",
       "       [131.57507871,  67.40996224],\n",
       "       [147.00607833,  62.06845336],\n",
       "       [141.80177394,  61.3784641 ],\n",
       "       [132.21078292,  69.07936491],\n",
       "       [132.20593837,  76.35201372],\n",
       "       [132.42691959,  73.50989964],\n",
       "       [151.61398387,  58.57699638],\n",
       "       [138.05548362,  62.06223118],\n",
       "       [138.44033318,  73.64462713],\n",
       "       [143.24226763,  62.10507564],\n",
       "       [136.91031327,  66.6522011 ],\n",
       "       [132.92766283,  71.30031259],\n",
       "       [133.42920121,  62.18993327],\n",
       "       [134.42718992,  68.63225304],\n",
       "       [134.70222211,  59.99584703],\n",
       "       [140.82103635,  64.39179414],\n",
       "       [135.41556709,  69.9186916 ],\n",
       "       [140.86112062,  58.4420376 ],\n",
       "       [134.35426736,  70.64284843],\n",
       "       [135.62908152,  67.88217321],\n",
       "       [119.01439452,  71.31493973],\n",
       "       [142.3306214 ,  69.3434848 ],\n",
       "       [137.77190781,  76.18484258],\n",
       "       [142.98408088,  68.75134702],\n",
       "       [111.82995697,  65.42356675],\n",
       "       [151.70699764,  68.73378502],\n",
       "       [133.88328297,  71.25978817],\n",
       "       [143.86546253,  68.29316042],\n",
       "       [126.68075258,  68.24355015],\n",
       "       [139.90219124,  63.78804987],\n",
       "       [126.57267549,  64.02259449],\n",
       "       [130.00984831,  59.58436837],\n",
       "       [150.31225083,  78.49746046],\n",
       "       [133.47454079,  60.53682059],\n",
       "       [136.73946299,  63.84256881],\n",
       "       [141.96054185,  63.68955641],\n",
       "       [138.9654551 ,  73.36954626],\n",
       "       [136.20335124,  66.23030193],\n",
       "       [137.91968802,  75.48645244],\n",
       "       [154.22732468,  63.95905625],\n",
       "       [134.53904962,  69.67396497],\n",
       "       [136.60879237,  62.98791768],\n",
       "       [143.40523517,  80.87089477],\n",
       "       [143.84420746,  60.87440949],\n",
       "       [144.49624244,  69.85892426],\n",
       "       [140.10984178,  71.80266129],\n",
       "       [125.8559607 ,  70.48279458],\n",
       "       [148.06745226,  66.88827405],\n",
       "       [125.82923686,  67.2210758 ],\n",
       "       [137.42108372,  68.26286883],\n",
       "       [128.9657932 ,  67.11798799],\n",
       "       [134.48689323,  73.7832747 ],\n",
       "       [137.63009928,  81.26313801],\n",
       "       [137.57085772,  64.65504929],\n",
       "       [138.37536603,  59.78118212],\n",
       "       [147.90969015,  67.47030771],\n",
       "       [138.62827441,  83.47825603],\n",
       "       [133.04674692,  63.17795259],\n",
       "       [142.71269735,  77.83470083],\n",
       "       [144.51576391,  78.06620488],\n",
       "       [125.17913748,  64.67847055],\n",
       "       [139.77920056,  71.41389848],\n",
       "       [140.60938194,  77.77037974],\n",
       "       [168.1043613 ,  46.32352093],\n",
       "       [168.9820982 ,  48.33411585],\n",
       "       [167.09159543,  37.02505743],\n",
       "       [164.92621635,  46.49622628],\n",
       "       [166.75361227,  49.91067597],\n",
       "       [163.88029867,  40.16143593],\n",
       "       [170.17041734,  51.69028955],\n",
       "       [166.15013384,  46.67607604],\n",
       "       [171.16892956,  42.17995258],\n",
       "       [162.22052177,  44.77692369]])"
      ]
     },
     "execution_count": 15,
     "metadata": {},
     "output_type": "execute_result"
    }
   ],
   "source": [
    "X=health_df.values\n",
    "X"
   ]
  },
  {
   "cell_type": "code",
   "execution_count": null,
   "id": "54e17f0c",
   "metadata": {},
   "outputs": [
    {
     "data": {
      "text/plain": [
       "array([[116.33161767,  89.07982198],\n",
       "       [124.51213225,  86.66258762],\n",
       "       [102.87404708,  85.97491518],\n",
       "       [117.67565432,  88.8056426 ],\n",
       "       [103.96544618,  83.04386129],\n",
       "       [116.79030361,  63.45672404],\n",
       "       [113.66305536,  88.78611916],\n",
       "       [104.12115087,  83.37115932],\n",
       "       [116.99506947,  90.45156524],\n",
       "       [114.23763574,  88.41578282],\n",
       "       [106.7878776 ,  74.55779998],\n",
       "       [109.39903348,  90.85362215],\n",
       "       [124.56037303,  88.36525902],\n",
       "       [102.81450476,  80.61794202],\n",
       "       [103.4158888 ,  80.39533874],\n",
       "       [ 97.40955235,  81.88317564],\n",
       "       [110.98356621,  87.44392058],\n",
       "       [106.83013746,  70.64540602],\n",
       "       [122.38886274,  59.3596947 ],\n",
       "       [146.8123228 ,  77.56703038],\n",
       "       [138.16642827,  55.07965932],\n",
       "       [144.38183215,  81.51461483],\n",
       "       [141.17358969,  53.00356571],\n",
       "       [121.08228977,  58.12760752],\n",
       "       [122.54734481,  57.84225911],\n",
       "       [151.61398387,  58.57699638],\n",
       "       [111.82995697,  65.42356675],\n",
       "       [151.70699764,  68.73378502],\n",
       "       [150.31225083,  78.49746046],\n",
       "       [154.22732468,  63.95905625],\n",
       "       [143.40523517,  80.87089477],\n",
       "       [138.62827441,  83.47825603],\n",
       "       [168.1043613 ,  46.32352093],\n",
       "       [168.9820982 ,  48.33411585],\n",
       "       [167.09159543,  37.02505743],\n",
       "       [164.92621635,  46.49622628],\n",
       "       [166.75361227,  49.91067597],\n",
       "       [163.88029867,  40.16143593],\n",
       "       [170.17041734,  51.69028955],\n",
       "       [166.15013384,  46.67607604],\n",
       "       [171.16892956,  42.17995258],\n",
       "       [162.22052177,  44.77692369]])"
      ]
     },
     "execution_count": 17,
     "metadata": {},
     "output_type": "execute_result"
    }
   ],
   "source": [
    "X[anomaly_index] # these are the anomalies"
   ]
  },
  {
   "cell_type": "code",
   "execution_count": 22,
   "id": "ae2d3274",
   "metadata": {},
   "outputs": [
    {
     "data": {
      "text/plain": [
       "[]"
      ]
     },
     "execution_count": 22,
     "metadata": {},
     "output_type": "execute_result"
    },
    {
     "data": {
      "image/png": "[encoded data removed]",
      "text/plain": [
       "<Figure size 640x480 with 1 Axes>"
      ]
     },
     "metadata": {},
     "output_type": "display_data"
    }
   ],
   "source": [
    "plt.scatter(health_df.iloc[:,0],health_df.iloc[:,1])\n",
    "plt.scatter(X[anomaly_index,0],X[anomaly_index,1],edgecolors=\"r\")\n",
    "plt.plot()"
   ]
  }
 ],
 "metadata": {
  "kernelspec": {
   "display_name": "venv",
   "language": "python",
   "name": "python3"
  },
  "language_info": {
   "codemirror_mode": {
    "name": "ipython",
    "version": 3
   },
   "file_extension": ".py",
   "mimetype": "text/x-python",
   "name": "python",
   "nbconvert_exporter": "python",
   "pygments_lexer": "ipython3",
   "version": "3.10.0"
  }
 },
 "nbformat": 4,
 "nbformat_minor": 5
}
